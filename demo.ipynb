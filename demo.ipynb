{
 "cells": [
  {
   "metadata": {},
   "cell_type": "markdown",
   "source": "Import the required packages",
   "id": "796f6206d5c860ac"
  },
  {
   "cell_type": "code",
   "id": "initial_id",
   "metadata": {
    "collapsed": true,
    "ExecuteTime": {
     "end_time": "2025-07-14T09:03:27.888079Z",
     "start_time": "2025-07-14T09:03:25.177503Z"
    }
   },
   "source": [
    "from scTACL import scTACL\n",
    "import os\n",
    "import torch\n",
    "from sklearn import metrics\n",
    "import numpy as np\n",
    "from preprocess import *\n",
    "import scanpy as sc"
   ],
   "outputs": [],
   "execution_count": 1
  },
  {
   "metadata": {},
   "cell_type": "markdown",
   "source": "Reading Data",
   "id": "3ca82a7fa97bf435"
  },
  {
   "metadata": {
    "ExecuteTime": {
     "end_time": "2025-07-14T09:03:28.295640Z",
     "start_time": "2025-07-14T09:03:27.897122Z"
    }
   },
   "cell_type": "code",
   "source": [
    "path = '/home/luxin1/scRNA-DATA/Quake_10x_Limb_Muscle/'\n",
    "adata = sc.read_h5ad(path + 'data.h5ad')\n",
    "adata.var_names_make_unique()\n",
    "adata"
   ],
   "id": "f01f35e28eb990b6",
   "outputs": [
    {
     "data": {
      "text/plain": [
       "AnnData object with n_obs × n_vars = 3909 × 23337\n",
       "    obs: 'cell_ontology_class', 'cell_ontology_id', 'cell_type1', 'cluster', 'dataset_name', 'donor', 'free_annotation', 'gender', 'organ', 'organism', 'plate', 'platform', 'region'"
      ]
     },
     "execution_count": 2,
     "metadata": {},
     "output_type": "execute_result"
    }
   ],
   "execution_count": 2
  },
  {
   "metadata": {},
   "cell_type": "markdown",
   "source": "Check the number of categories in the data",
   "id": "cc44a25e273485b4"
  },
  {
   "metadata": {
    "ExecuteTime": {
     "end_time": "2025-07-14T09:03:28.587325Z",
     "start_time": "2025-07-14T09:03:28.583620Z"
    }
   },
   "cell_type": "code",
   "source": [
    "unique_categories = adata.obs['cell_type1'].unique()  # 获取唯一值\n",
    "num_unique_categories = len(unique_categories)\n",
    "n_cluster = num_unique_categories\n",
    "print(n_cluster)"
   ],
   "id": "199353a700710dd2",
   "outputs": [
    {
     "name": "stdout",
     "output_type": "stream",
     "text": [
      "6\n"
     ]
    }
   ],
   "execution_count": 3
  },
  {
   "metadata": {},
   "cell_type": "markdown",
   "source": "Start training the model",
   "id": "2424ad1bee1ae499"
  },
  {
   "metadata": {
    "ExecuteTime": {
     "end_time": "2025-07-14T09:05:01.639440Z",
     "start_time": "2025-07-14T09:03:28.606734Z"
    }
   },
   "cell_type": "code",
   "source": [
    "device = torch.device('cuda:1' if torch.cuda.is_available() else 'cpu')\n",
    "model = scTACL(adata,\n",
    "              n_top_genes=3000,\n",
    "              epochs = 500,\n",
    "              dim_output=96,\n",
    "              n_neighbor=5,\n",
    "              device=device,\n",
    "              alpha = 5,\n",
    "              beta = 0.6,\n",
    "              gama = 0.6)\n",
    "adata = model.train()"
   ],
   "id": "d54c01aa35e7250a",
   "outputs": [
    {
     "name": "stdout",
     "output_type": "stream",
     "text": [
      "Begin to train SC data...\n"
     ]
    },
    {
     "name": "stderr",
     "output_type": "stream",
     "text": [
      "100%|██████████| 500/500 [00:59<00:00,  8.37it/s]\n"
     ]
    },
    {
     "data": {
      "text/plain": [
       "<Figure size 1000x500 with 1 Axes>"
      ],
      "image/png": "[encoded data removed]"
     },
     "metadata": {},
     "output_type": "display_data"
    },
    {
     "name": "stdout",
     "output_type": "stream",
     "text": [
      "Optimization finished for SC data!\n"
     ]
    }
   ],
   "execution_count": 4
  },
  {
   "metadata": {},
   "cell_type": "markdown",
   "source": "Model training is completed and clustering begins",
   "id": "153e926f9f62c3db"
  },
  {
   "metadata": {
    "ExecuteTime": {
     "end_time": "2025-07-14T09:05:14.440634Z",
     "start_time": "2025-07-14T09:05:01.802443Z"
    }
   },
   "cell_type": "code",
   "source": [
    "from utils import clustering\n",
    "clustering(adata, n_clusters = n_cluster)\n",
    "\n",
    "cell_name = np.array(adata.obs[\"cell_type1\"])\n",
    "cell_type, cell_label = np.unique(cell_name, return_inverse=True)\n",
    "ARI = metrics.adjusted_rand_score(adata.obs['scTACL'], cell_label)\n",
    "NMI = metrics.normalized_mutual_info_score(adata.obs['scTACL'], cell_label)\n",
    "print(f\"{ARI:.4f}, {NMI:.4f}\")"
   ],
   "id": "9160b74284271b7d",
   "outputs": [
    {
     "name": "stdout",
     "output_type": "stream",
     "text": [
      "0.9953, 0.9906\n"
     ]
    }
   ],
   "execution_count": 5
  },
  {
   "metadata": {
    "ExecuteTime": {
     "end_time": "2025-07-14T09:05:14.470630Z",
     "start_time": "2025-07-14T09:05:14.467466Z"
    }
   },
   "cell_type": "code",
   "source": "adata",
   "id": "6332efce5c6a0c75",
   "outputs": [
    {
     "data": {
      "text/plain": [
       "AnnData object with n_obs × n_vars = 3909 × 23337\n",
       "    obs: 'cell_ontology_class', 'cell_ontology_id', 'cell_type1', 'cluster', 'dataset_name', 'donor', 'free_annotation', 'gender', 'organ', 'organism', 'plate', 'platform', 'region', 'kmeans', 'scTACL'\n",
       "    var: 'highly_variable', 'highly_variable_rank', 'means', 'variances', 'variances_norm', 'mean', 'std'\n",
       "    uns: 'hvg', 'log1p', 'pca'\n",
       "    obsm: 'feat', 'X_pca', 'adj', 'emb', 'emb_pca'\n",
       "    varm: 'PCs'"
      ]
     },
     "execution_count": 6,
     "metadata": {},
     "output_type": "execute_result"
    }
   ],
   "execution_count": 6
  },
  {
   "metadata": {
    "ExecuteTime": {
     "end_time": "2025-07-14T09:05:14.514176Z",
     "start_time": "2025-07-14T09:05:14.512517Z"
    }
   },
   "cell_type": "code",
   "source": "",
   "id": "dc2440929605e38",
   "outputs": [],
   "execution_count": null
  }
 ],
 "metadata": {
  "kernelspec": {
   "display_name": "Python 3",
   "language": "python",
   "name": "python3"
  },
  "language_info": {
   "codemirror_mode": {
    "name": "ipython",
    "version": 2
   },
   "file_extension": ".py",
   "mimetype": "text/x-python",
   "name": "python",
   "nbconvert_exporter": "python",
   "pygments_lexer": "ipython2",
   "version": "2.7.6"
  }
 },
 "nbformat": 4,
 "nbformat_minor": 5
}
